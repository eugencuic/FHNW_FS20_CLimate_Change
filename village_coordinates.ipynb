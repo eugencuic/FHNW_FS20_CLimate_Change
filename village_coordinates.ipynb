{
 "cells": [
  {
   "cell_type": "markdown",
   "metadata": {},
   "source": [
    "# Names and coordinates of Swiss cities"
   ]
  },
  {
   "cell_type": "markdown",
   "metadata": {},
   "source": [
    "In this notebook, we will import the name and the GPS coordinates from all municipalities in Switzerland.\n",
    "\n",
    "We will import a CSV file and convert it directly into a dataframe.\n",
    "Our source is the Swiss Federal Office of Topography. The file is updated every month."
   ]
  },
  {
   "cell_type": "markdown",
   "metadata": {},
   "source": [
    "## Import the data"
   ]
  },
  {
   "cell_type": "code",
   "execution_count": 49,
   "metadata": {},
   "outputs": [],
   "source": [
    "#Install the required libraries.\n",
    "import sqlalchemy\n",
    "import pandas as pd\n",
    "import io\n",
    "import requests\n",
    "import zipfile\n",
    "import mysql.connector\n",
    "from bs4 import BeautifulSoup\n",
    "from sqlalchemy.sql import text"
   ]
  },
  {
   "cell_type": "code",
   "execution_count": 57,
   "metadata": {},
   "outputs": [
    {
     "output_type": "execute_result",
     "data": {
      "text/plain": "    Ortschaftsname   PLZ  Zusatzziffer        Gemeindename  BFS-Nr  \\\n0  Aeugst am Albis  8914             0     Aeugst am Albis       1   \n1      Aeugstertal  8914             2     Aeugst am Albis       1   \n2        Zwillikon  8909             0  Affoltern am Albis       2   \n\n  Kantonskürzel         E          N Sprache  \n0            ZH  8.488313  47.267004      de  \n1            ZH  8.493642  47.282761      de  \n2            ZH  8.431459  47.287633      de  ",
      "text/html": "<div>\n<style scoped>\n    .dataframe tbody tr th:only-of-type {\n        vertical-align: middle;\n    }\n\n    .dataframe tbody tr th {\n        vertical-align: top;\n    }\n\n    .dataframe thead th {\n        text-align: right;\n    }\n</style>\n<table border=\"1\" class=\"dataframe\">\n  <thead>\n    <tr style=\"text-align: right;\">\n      <th></th>\n      <th>Ortschaftsname</th>\n      <th>PLZ</th>\n      <th>Zusatzziffer</th>\n      <th>Gemeindename</th>\n      <th>BFS-Nr</th>\n      <th>Kantonskürzel</th>\n      <th>E</th>\n      <th>N</th>\n      <th>Sprache</th>\n    </tr>\n  </thead>\n  <tbody>\n    <tr>\n      <th>0</th>\n      <td>Aeugst am Albis</td>\n      <td>8914</td>\n      <td>0</td>\n      <td>Aeugst am Albis</td>\n      <td>1</td>\n      <td>ZH</td>\n      <td>8.488313</td>\n      <td>47.267004</td>\n      <td>de</td>\n    </tr>\n    <tr>\n      <th>1</th>\n      <td>Aeugstertal</td>\n      <td>8914</td>\n      <td>2</td>\n      <td>Aeugst am Albis</td>\n      <td>1</td>\n      <td>ZH</td>\n      <td>8.493642</td>\n      <td>47.282761</td>\n      <td>de</td>\n    </tr>\n    <tr>\n      <th>2</th>\n      <td>Zwillikon</td>\n      <td>8909</td>\n      <td>0</td>\n      <td>Affoltern am Albis</td>\n      <td>2</td>\n      <td>ZH</td>\n      <td>8.431459</td>\n      <td>47.287633</td>\n      <td>de</td>\n    </tr>\n  </tbody>\n</table>\n</div>"
     },
     "metadata": {},
     "execution_count": 57
    }
   ],
   "source": [
    "#Get the connection to the website\n",
    "url = 'https://www.cadastre.ch/de/services/service/registry/plz.html'\n",
    "\n",
    "#Accessing the entire website\n",
    "website = requests.get(url)\n",
    "\n",
    "#Creating a beautiful soup object with the webpage, using the html parser\n",
    "soup = BeautifulSoup(website.content, 'html.parser')\n",
    "\n",
    "#Finding the right section\n",
    "section = soup.find('div', class_= 'parsys_column row')\n",
    "\n",
    "#Finding the section with the link to the file\n",
    "link = section.find('a', string = 'CSV (Excel) WGS84 ')\n",
    "\n",
    "#Extract the link with the desired data\n",
    "data_file = link['href']\n",
    "\n",
    "#Unzip the zip file and store it in the same directory as this file is stored\n",
    "get_data = requests.get(data_file)\n",
    "content = zipfile.ZipFile(io.BytesIO(get_data.content))\n",
    "data_folder = content.extractall()\n",
    "\n",
    "#Load Data into Pandas DataFrame\n",
    "raw_data = pd.read_csv('PLZO_CSV_WGS84/PLZO_CSV_WGS84.csv', sep=';', encoding='latin-1')\n",
    "raw_data.head(3)\n"
   ]
  },
  {
   "cell_type": "code",
   "execution_count": 58,
   "metadata": {},
   "outputs": [
    {
     "output_type": "stream",
     "name": "stdout",
     "text": "<class 'pandas.core.frame.DataFrame'>\nRangeIndex: 4133 entries, 0 to 4132\nData columns (total 9 columns):\n #   Column          Non-Null Count  Dtype  \n---  ------          --------------  -----  \n 0   Ortschaftsname  4133 non-null   object \n 1   PLZ             4133 non-null   int64  \n 2   Zusatzziffer    4133 non-null   int64  \n 3   Gemeindename    4133 non-null   object \n 4   BFS-Nr          4133 non-null   int64  \n 5   Kantonskürzel   4133 non-null   object \n 6   E               4133 non-null   float64\n 7   N               4133 non-null   float64\n 8   Sprache         4133 non-null   object \ndtypes: float64(2), int64(3), object(4)\nmemory usage: 290.7+ KB\n"
    }
   ],
   "source": [
    "raw_data.info()"
   ]
  },
  {
   "cell_type": "code",
   "execution_count": 59,
   "metadata": {},
   "outputs": [
    {
     "output_type": "execute_result",
     "data": {
      "text/plain": "    Ortschaftsname   PLZ  Longitude   Latitude\n0  Aeugst am Albis  8914   8.488313  47.267004\n1      Aeugstertal  8914   8.493642  47.282761\n2        Zwillikon  8909   8.431459  47.287633",
      "text/html": "<div>\n<style scoped>\n    .dataframe tbody tr th:only-of-type {\n        vertical-align: middle;\n    }\n\n    .dataframe tbody tr th {\n        vertical-align: top;\n    }\n\n    .dataframe thead th {\n        text-align: right;\n    }\n</style>\n<table border=\"1\" class=\"dataframe\">\n  <thead>\n    <tr style=\"text-align: right;\">\n      <th></th>\n      <th>Ortschaftsname</th>\n      <th>PLZ</th>\n      <th>Longitude</th>\n      <th>Latitude</th>\n    </tr>\n  </thead>\n  <tbody>\n    <tr>\n      <th>0</th>\n      <td>Aeugst am Albis</td>\n      <td>8914</td>\n      <td>8.488313</td>\n      <td>47.267004</td>\n    </tr>\n    <tr>\n      <th>1</th>\n      <td>Aeugstertal</td>\n      <td>8914</td>\n      <td>8.493642</td>\n      <td>47.282761</td>\n    </tr>\n    <tr>\n      <th>2</th>\n      <td>Zwillikon</td>\n      <td>8909</td>\n      <td>8.431459</td>\n      <td>47.287633</td>\n    </tr>\n  </tbody>\n</table>\n</div>"
     },
     "metadata": {},
     "execution_count": 59
    }
   ],
   "source": [
    "#Just take those columns that are needed\n",
    "raw_data = raw_data[['Ortschaftsname', 'PLZ', 'E', 'N']]\n",
    "\n",
    "#Rename E and N to Longtidue and Latitude for a better understanding of the data\n",
    "koord_data = raw_data.rename(columns={\n",
    "    'E' : 'Longitude', \n",
    "    'N' : 'Latitude'}\n",
    "    )\n",
    "\n",
    "koord_data.head(3)"
   ]
  },
  {
   "cell_type": "markdown",
   "metadata": {},
   "source": [
    "## Data in the table\n",
    "- 1st column is the name of the village\n",
    "- 2nd column are the ZIP codes of the villages\n",
    "- 3rd and 4th column contain the GPS coordinates: Latitude and Longitude\n"
   ]
  },
  {
   "cell_type": "code",
   "execution_count": 38,
   "metadata": {},
   "outputs": [],
   "source": [
    "#Create URI for DataBase connection\n",
    "database_username ='climate_change'\n",
    "database_password = 'FHNW_climate_20'\n",
    "database_ip = '45.32.156.57'\n",
    "database_port = '3306'\n",
    "database_name = 'Climate_Change'\n",
    "\n",
    "database_connection = sqlalchemy.create_engine('mysql+mysqlconnector://{0}:{1}@{2}/{3}'.\n",
    "                                               format(database_username, database_password, \n",
    "                                                      database_ip, database_name))"
   ]
  },
  {
   "cell_type": "code",
   "execution_count": 39,
   "metadata": {},
   "outputs": [],
   "source": [
    "#Evoke connection to DataBase\n",
    "con = database_connection.connect()"
   ]
  },
  {
   "cell_type": "markdown",
   "metadata": {},
   "source": [
    "# Create Table in MySQL DataBase\n",
    "In order to safe the data into a DB it is necessary to define the field correctly, otherwise the risk can be that wrong types of field might consume too much ressources and slow down your system. \n"
   ]
  },
  {
   "cell_type": "code",
   "execution_count": null,
   "metadata": {},
   "outputs": [],
   "source": [
    "#Query to create a table in the Climate Change Schema, with correct types\n",
    "query = text(\"\"\"\n",
    "CREATE TABLE `Climate_Change`.`coordinates` (\n",
    "  `Ortschaftsname` VARCHAR(40) NOT NULL,\n",
    "  `PLZ` INT NULL,\n",
    "  `Longitude` FLOAT NULL,\n",
    "  `Latitude` FLOAT NULL,\n",
    "  PRIMARY KEY (`Ortschaftsname`))\n",
    "ENGINE = InnoDB\n",
    "DEFAULT CHARACTER SET = utf8;\n",
    "\"\"\")"
   ]
  },
  {
   "cell_type": "code",
   "execution_count": null,
   "metadata": {},
   "outputs": [],
   "source": [
    "#Execute Query to create Table in DataBase\n",
    "con.execute(query)"
   ]
  },
  {
   "cell_type": "code",
   "execution_count": 24,
   "metadata": {},
   "outputs": [],
   "source": [
    "#Send DataFrame to DataBase by using Pandas functionality\n",
    "koord_data.to_sql(con=database_connection, name='coordinates', if_exists='replace')"
   ]
  },
  {
   "cell_type": "markdown",
   "metadata": {},
   "source": [
    "## SQL Queries for different needs\n",
    "In this section we will safe the most used Queries in order to have a uniform way of operating with them"
   ]
  },
  {
   "cell_type": "code",
   "execution_count": null,
   "metadata": {},
   "outputs": [],
   "source": [
    "#Deleting all existing row in the coordinates table\n",
    "delet_rows = text(\"\"\"\n",
    "DELETE FROM Climate_Change.coordinates;\n",
    "\"\"\")\n",
    "\n",
    "#Selecting all village names from coordinates table, which will be used for the drop down menu\n",
    "village_names = 'SELECT Ortschaftsname FROM Climate_Change.coordinates'\n"
   ]
  },
  {
   "cell_type": "code",
   "execution_count": 40,
   "metadata": {},
   "outputs": [
    {
     "output_type": "execute_result",
     "data": {
      "text/plain": "<sqlalchemy.engine.result.ResultProxy at 0x20c4b10d988>"
     },
     "metadata": {},
     "execution_count": 40
    }
   ],
   "source": [
    "#Drop all Data from Database\n",
    "delet_rows = text(\"\"\"\n",
    "DELETE FROM Climate_Change.coordinates;\n",
    "\"\"\")\n",
    "con.execute(delet_rows)"
   ]
  },
  {
   "cell_type": "code",
   "execution_count": null,
   "metadata": {},
   "outputs": [],
   "source": [
    "#Exectuing Village Name extraction\n",
    "select_coordinates = pd.read_sql(village_names, con=con)\n",
    "select_coordinates.head(3)"
   ]
  },
  {
   "cell_type": "code",
   "execution_count": null,
   "metadata": {},
   "outputs": [],
   "source": []
  }
 ],
 "metadata": {
  "kernelspec": {
   "display_name": "Python 3",
   "language": "python",
   "name": "python3"
  },
  "language_info": {
   "codemirror_mode": {
    "name": "ipython",
    "version": 3
   },
   "file_extension": ".py",
   "mimetype": "text/x-python",
   "name": "python",
   "nbconvert_exporter": "python",
   "pygments_lexer": "ipython3",
   "version": "3.7.6-final"
  }
 },
 "nbformat": 4,
 "nbformat_minor": 4
}