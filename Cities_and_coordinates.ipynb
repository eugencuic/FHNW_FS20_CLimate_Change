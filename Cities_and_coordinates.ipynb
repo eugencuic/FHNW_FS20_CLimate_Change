{
 "cells": [
  {
   "cell_type": "markdown",
   "metadata": {},
   "source": [
    "# Names and coordinates of Swiss cities"
   ]
  },
  {
   "cell_type": "markdown",
   "metadata": {},
   "source": [
    "In this notebook, we will import the name and the GPS coordinates from all municipalities in Switzerland.\n",
    "\n",
    "We will import a CSV file and convert it directly into a dataframe.\n",
    "Our source is the Swiss Federal Office of Topography. The file is updated every month."
   ]
  },
  {
   "cell_type": "markdown",
   "metadata": {},
   "source": [
    "## Import the data"
   ]
  },
  {
   "cell_type": "code",
   "execution_count": null,
   "metadata": {},
   "outputs": [],
   "source": [
    "#Install the required libraries.\n",
    "import sqlalchemy\n",
    "import pandas as pd\n",
    "import io\n",
    "import requests\n",
    "import zipfile\n",
    "import mysql.connector\n",
    "from bs4 import BeautifulSoup\n",
    "from sqlalchemy.sql import text"
   ]
  },
  {
   "cell_type": "code",
   "execution_count": null,
   "metadata": {},
   "outputs": [],
   "source": [
    "#Get the connection to the website\n",
    "url = 'https://www.cadastre.ch/de/services/service/registry/plz.html'\n",
    "\n",
    "#Accessing the entire website\n",
    "website = requests.get(url)\n",
    "\n",
    "#Creating a beautiful soup object with the webpage, using the html parser\n",
    "soup = BeautifulSoup(website.content, 'html.parser')\n",
    "\n",
    "#Finding the right section\n",
    "section = soup.find('div', class_= 'parsys_column row')\n",
    "\n",
    "#Finding the section with the link to the file\n",
    "link = section.find('a', string = 'CSV (Excel) WGS84 ')\n",
    "\n",
    "#Extract the link with the desired data\n",
    "data_file = link['href']\n",
    "\n",
    "#Unzip the zip file and store it in the same directory as this file is stored\n",
    "get_data = requests.get(data_file)\n",
    "content = zipfile.ZipFile(io.BytesIO(get_data.content))\n",
    "data_folder = content.extractall()\n",
    "\n",
    "#Load Data into Pandas DataFrame\n",
    "raw_data = pd.read_csv('PLZO_CSV_WGS84/PLZO_CSV_WGS84.csv', sep=';', engine='python')\n",
    "raw_data.head(3)"
   ]
  },
  {
   "cell_type": "code",
   "execution_count": null,
   "metadata": {},
   "outputs": [],
   "source": [
    "#Just take those columns that are needed\n",
    "raw_data = raw_data[['Ortschaftsname', 'PLZ', 'E', 'N']]\n",
    "\n",
    "#Rename E and N to Longtidue and Latitude for a better understanding of the data\n",
    "koord_data = raw_data.rename(columns={\n",
    "    'E' : 'Longitude', \n",
    "    'N' : 'Latitude'}\n",
    "    )\n",
    "\n",
    "koord_data.head(3)"
   ]
  },
  {
   "cell_type": "code",
   "execution_count": null,
   "metadata": {},
   "outputs": [],
   "source": [
    "#Replace all ä,ö,ü with ae, oe, ue\n",
    "koord_data = koord_data.replace('ä', 'ae', regex=True)\n",
    "koord_data = koord_data.replace('ö', 'oe', regex=True)\n",
    "koord_data = koord_data.replace('ü', 'ue', regex=True)"
   ]
  },
  {
   "cell_type": "markdown",
   "metadata": {},
   "source": [
    "## Data in the table\n",
    "- 1st column is the name of the village\n",
    "- 2nd column are the ZIP codes of the villages\n",
    "- 3rd and 4th column contain the GPS coordinates: Latitude and Longitude\n"
   ]
  },
  {
   "cell_type": "code",
   "execution_count": null,
   "metadata": {},
   "outputs": [],
   "source": [
    "#Create URI for DataBase connection\n",
    "database_username ='climate_change'\n",
    "database_password = 'FHNW_climate_20'\n",
    "database_ip = '45.32.156.57'\n",
    "database_port = '3306'\n",
    "database_name = 'Climate_Change'\n",
    "\n",
    "database_connection = sqlalchemy.create_engine('mysql+mysqlconnector://{0}:{1}@{2}/{3}'.\n",
    "                                               format(database_username, database_password, \n",
    "                                                      database_ip, database_name))"
   ]
  },
  {
   "cell_type": "code",
   "execution_count": null,
   "metadata": {},
   "outputs": [],
   "source": [
    "#Evoke connection to DataBase\n",
    "con = database_connection.connect()"
   ]
  },
  {
   "cell_type": "markdown",
   "metadata": {},
   "source": [
    "# Create Table in MySQL DataBase\n",
    "In order to safe the data into a DB it is necessary to define the field correctly, otherwise the risk can be that wrong types of field might consume too much ressources and slow down your system. \n"
   ]
  },
  {
   "cell_type": "code",
   "execution_count": null,
   "metadata": {},
   "outputs": [],
   "source": [
    "#Query to create a table in the Climate Change Schema, with correct types\n",
    "query = text(\"\"\"\n",
    "CREATE TABLE `Climate_Change`.`coordinates` (\n",
    "  `Ortschaftsname` VARCHAR(40) NOT NULL,\n",
    "  `PLZ` INT NULL,\n",
    "  `Longitude` FLOAT NULL,\n",
    "  `Latitude` FLOAT NULL,\n",
    "  PRIMARY KEY (`Ortschaftsname`))\n",
    "ENGINE = InnoDB\n",
    "DEFAULT CHARACTER SET = utf8;\n",
    "\"\"\")"
   ]
  },
  {
   "cell_type": "code",
   "execution_count": null,
   "metadata": {},
   "outputs": [],
   "source": [
    "#Execute Query to create Table in DataBase\n",
    "con.execute(query)"
   ]
  },
  {
   "cell_type": "code",
   "execution_count": null,
   "metadata": {},
   "outputs": [],
   "source": [
    "#Send DataFrame to DataBase by using Pandas functionality\n",
    "koord_data.to_sql(con=database_connection, name='coordinates', if_exists='replace')"
   ]
  },
  {
   "cell_type": "markdown",
   "metadata": {},
   "source": [
    "## SQL Queries for different needs\n",
    "In this section we will safe the most used Queries in order to have a uniform way of operating with them"
   ]
  },
  {
   "cell_type": "code",
   "execution_count": null,
   "metadata": {},
   "outputs": [],
   "source": [
    "#Deleting all existing row in the coordinates table\n",
    "delet_rows = text(\"\"\"\n",
    "DELETE FROM Climate_Change.coordinates;\n",
    "\"\"\")\n",
    "\n",
    "#Selecting all village names from coordinates table, which will be used for the drop down menu\n",
    "village_names = 'SELECT Ortschaftsname FROM Climate_Change.coordinates'\n"
   ]
  },
  {
   "cell_type": "code",
   "execution_count": null,
   "metadata": {},
   "outputs": [],
   "source": [
    "#Exectuing Village Name extraction\n",
    "select_coordinates = pd.read_sql(village_names, con=con)\n",
    "select_coordinates.head(3)"
   ]
  },
  {
   "cell_type": "code",
   "execution_count": null,
   "metadata": {},
   "outputs": [],
   "source": []
  }
 ],
 "metadata": {
  "kernelspec": {
   "display_name": "Python 3",
   "language": "python",
   "name": "python3"
  },
  "language_info": {
   "codemirror_mode": {
    "name": "ipython",
    "version": 3
   },
   "file_extension": ".py",
   "mimetype": "text/x-python",
   "name": "python",
   "nbconvert_exporter": "python",
   "pygments_lexer": "ipython3",
   "version": "3.7.6-final"
  }
 },
 "nbformat": 4,
 "nbformat_minor": 4
}