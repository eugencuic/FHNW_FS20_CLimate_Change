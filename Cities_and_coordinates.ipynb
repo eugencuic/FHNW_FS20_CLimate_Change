{
 "cells": [
  {
   "cell_type": "markdown",
   "metadata": {},
   "source": [
    "# Names and coordinates of Swiss cities"
   ]
  },
  {
   "cell_type": "markdown",
   "metadata": {},
   "source": [
    "In this notebook, we will import the name and the GPS coordinates from all municipalities in Switzerland.\n",
    "\n",
    "We will import a CSV file and convert it directly into a dataframe.\n",
    "Our source is the Swiss Federal Office of Topography. The file is updated every month.\n",
    "\n"
   ]
  },
  {
   "cell_type": "markdown",
   "metadata": {},
   "source": [
    "## Import the data"
   ]
  },
  {
   "cell_type": "code",
   "execution_count": null,
   "metadata": {},
   "outputs": [],
   "source": [
    "#Install the required libraries.\n",
    "import requests\n",
    "from bs4 import BeautifulSoup\n",
    "import pandas as ps\n",
    "import zipfile\n",
    "import io\n",
    "import os\n",
    "import csv\n",
    "import numpy as np"
   ]
  },
  {
   "cell_type": "code",
   "execution_count": null,
   "metadata": {},
   "outputs": [],
   "source": [
    "#Get the connection to the website\n",
    "url = 'https://www.cadastre.ch/de/services/service/registry/plz.html'\n",
    "\n",
    "#Accessing the entire website\n",
    "website = requests.get(url)\n",
    "\n",
    "#Creating a beautiful soup object with the webpage, using the html parser\n",
    "soup = BeautifulSoup(website.content, 'html.parser')\n",
    "\n",
    "#Finding the right section\n",
    "section = soup.find('div', class_= 'parsys_column row')\n",
    "\n",
    "#Finding the section with the link to the file\n",
    "link = section.find('a', string = 'CSV (Excel) WGS84 ')\n",
    "\n",
    "#Extract the link with the desired data\n",
    "data_file = link['href']\n",
    "\n",
    "#Unzip the zip file and store it in the same directory as this file is stored\n",
    "get_data = requests.get(data_file)\n",
    "content = zipfile.ZipFile(io.BytesIO(get_data.content))\n",
    "data_folder = content.extractall()\n",
    "\n",
    "#Create an array with all the data stored in the file\n",
    "Data = []\n",
    "\n",
    "#Open the CSV File and read it with the csv reader\n",
    "with open('PLZO_CSV_WGS84/PLZO_CSV_WGS84.csv') as CSV_File:\n",
    "    read = csv.reader(CSV_File, delimiter = ';')\n",
    "    #store every row of the File in the array\n",
    "    for row in read:\n",
    "        Data.append(row)\n",
    "\n",
    "#Change the list to a numpy array, in order to be able to define the header further down in the code\n",
    "Data = np.asarray(Data)\n",
    "\n",
    "#Convert the array in a Dataframe with the first row as header of the table\n",
    "dataframe_1 = ps.DataFrame(Data[1:,:], columns = Data[0,:])\n",
    "\n",
    "#Dataframe with the Information needed\n",
    "dataframe = dataframe_1[['Ortschaftsname', 'Gemeindename', 'PLZ', 'E', 'N']]\n",
    "\n",
    "#Change the column header E, N to Longitude and Latitude for a better understanding while working with the data\n",
    "dataframe = dataframe.rename({'E' : 'Longitude', 'N' : 'Latitude'}, axis = 'columns')\n",
    "display(dataframe)"
   ]
  },
  {
   "cell_type": "markdown",
   "metadata": {},
   "source": [
    "The csv file couldn't be converted directly into a pandas dataframe, because the csv file, is not in the in the correct unicode form. \n",
    "\n",
    "Because of that it had to be read first as a csv and then we had to convert it into a numpy array to finally convert it into a pandas dataframe."
   ]
  },
  {
   "cell_type": "markdown",
   "metadata": {},
   "source": [
    "## Data in the table"
   ]
  },
  {
   "cell_type": "markdown",
   "metadata": {},
   "source": [
    "In the first column, are the names of localities.\n",
    "\n",
    "In the second column are the names of the municipalities and lakes. \n",
    "The first column (Ortschaftsname) contains the name of places. This places aren't always proper municipalities, but they all are a part of a municipality (is defined in the second column). \n",
    "\n",
    "In the third columns are the postcodes.\n",
    "\n",
    "In the fourts column is the Longitude and in the fifth column the latitude.\n",
    "\n"
   ]
  }
 ],
 "metadata": {
  "kernelspec": {
   "display_name": "Python 3",
   "language": "python",
   "name": "python3"
  },
  "language_info": {
   "codemirror_mode": {
    "name": "ipython",
    "version": 3
   },
   "file_extension": ".py",
   "mimetype": "text/x-python",
   "name": "python",
   "nbconvert_exporter": "python",
   "pygments_lexer": "ipython3",
   "version": "3.7.4"
  }
 },
 "nbformat": 4,
 "nbformat_minor": 4
}
