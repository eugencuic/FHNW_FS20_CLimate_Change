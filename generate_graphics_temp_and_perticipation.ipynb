{
 "nbformat": 4,
 "nbformat_minor": 2,
 "metadata": {
  "language_info": {
   "name": "python",
   "codemirror_mode": {
    "name": "ipython",
    "version": 3
   },
   "version": "3.7.6-final"
  },
  "orig_nbformat": 2,
  "file_extension": ".py",
  "mimetype": "text/x-python",
  "name": "python",
  "npconvert_exporter": "python",
  "pygments_lexer": "ipython3",
  "version": 3,
  "kernelspec": {
   "name": "python3",
   "display_name": "Python 3"
  }
 },
 "cells": [
  {
   "cell_type": "markdown",
   "metadata": {},
   "source": [
    "## Intro\n",
    "- RhiresM = monatlicher Niederschlag\n"
   ],
   "execution_count": null,
   "outputs": []
  },
  {
   "cell_type": "code",
   "execution_count": null,
   "metadata": {},
   "outputs": [],
   "source": [
    "import numpy as np\n",
    "import matplotlib.pyplot as plt\n",
    "\n",
    "from netCDF4 import Dataset\n",
    "from mpl_toolkits.basemap import Basemap"
   ]
  },
  {
   "cell_type": "markdown",
   "metadata": {},
   "source": [
    "## In order to create all necessary graphical outputs we would like to iterrate through all months and years of a particular value and save a picture as output. In order to do so, we need to define two lists to iterrate through:\n",
    "- All years form 1961 to 2019\n",
    "- All months from 1 to 12\n",
    " "
   ],
   "execution_count": null,
   "outputs": []
  },
  {
   "cell_type": "code",
   "execution_count": null,
   "metadata": {},
   "outputs": [],
   "source": [
    "years = list(range(1961,2020))\n",
    "months = list(range(0,12))"
   ]
  },
  {
   "cell_type": "markdown",
   "metadata": {},
   "source": [
    "The recieved data from MeteoSwiss is grouped by year and can be accessed by calling every path separately. Therefore it is necessary to change the path every time a new year is called and close the file after the necessary graphics are safed. \n",
    "\n",
    "Furthermore, in order to not repeat oneself, the creating of the graphics will be backed in a definition and later on all graphics will be create in a for loop."
   ],
   "execution_count": null,
   "outputs": []
  },
  {
   "cell_type": "markdown",
   "metadata": {},
   "source": [
    "## Definitions to create Temperature and Perticipation Graphics"
   ],
   "execution_count": null,
   "outputs": []
  },
  {
   "cell_type": "code",
   "execution_count": null,
   "metadata": {},
   "outputs": [],
   "source": [
    "def graphic_niederschlag(year):\n",
    "    path = \"RhiresM_ch01r.swisscors_{Y}01010000_{Y}12010000.nc\".format(Y=year)\n",
    "    cube_data = Dataset(path, mode='r')\n",
    "    lons = cube_data.variables['lon'][:]\n",
    "    lats = cube_data.variables['lat'][:]\n",
    "\n",
    "    # Create the underlying map\n",
    "    m = Basemap(\n",
    "        projection='mill',\n",
    "        llcrnrlat=45.7,\n",
    "        urcrnrlat=47.9,\n",
    "        llcrnrlon=5.8,\n",
    "        urcrnrlon=10.6,\n",
    "        resolution='f') \n",
    "\n",
    "    '''\n",
    "    projection: style of map (https://matplotlib.org/basemap/users/mapsetup.html)\n",
    "    llcrnlat: lower left corner of map latitude coordinate\n",
    "    urcrnlat: upper right corner of map latitude coordinate\n",
    "    llcrnrlon: lower left corner of map longitude coordinate\n",
    "    urcrnrlon: upper right corner of map longtitude coordinate\n",
    "    Resolution: c (crude), l (low), i (intermediate), h (high), f (full)\n",
    "    '''\n",
    "\n",
    "    # Transforming 2 dimensional data into one dimensional data\n",
    "    xi, yi = m(lons, lats)\n",
    "\n",
    "    # Set the size of the output figure\n",
    "    plt.figure(figsize=(12,9))\n",
    "\n",
    "    # Add Coastlines, Country Boundaries, Rivers and Lakes\n",
    "    m.drawcoastlines(linewidth=0.5, color='#0A37B0')\n",
    "    m.drawcountries(linewidth=1.5, color='#000000')\n",
    "    m.drawrivers(linewidth=0.5, color='#0A37B0')\n",
    "\n",
    "    for month in months:\n",
    "        niederschlag = cube_data.variables['RhiresM'][month,:,:]\n",
    "\n",
    "        # Because of index differences we need to add +1 to month to capture the correct month\n",
    "        # 0 = January, 1 = February etc. a the moment\n",
    "        month_text = month + 1\n",
    "        # Plot Data\n",
    "        cs = m.pcolor(xi,yi,np.squeeze(niederschlag),vmin=0, vmax = 400, cmap='BuPu')\n",
    "\n",
    "        # As Referenzen for min and max figures we are referencing to Meteo Suisse and their graphics\n",
    "        # (https://www.meteoschweiz.admin.ch/home/klima/schweizer-klima-im-detail/monats-und-jahresgitterkarten.html)\n",
    "\n",
    "        # Adding a colorbar on the bottom of the graphic\n",
    "        cbar = m.colorbar(cs, location='bottom', pad='10%')\n",
    "        cbar.set_label('Precipitation in mm')\n",
    "\n",
    "        # Adding a title to the graphic\n",
    "        plt.title('Average Precipitation Year: {Y}, Month: {M}'.format(Y=year, M=month_text))\n",
    "\n",
    "        #Savinf the plot to \".png\" \n",
    "        plt.savefig('Niederschlag_{Y}_{M}.png'.format(Y=year,M=month_text))\n",
    "\n",
    "    cube_data.close()"
   ]
  },
  {
   "cell_type": "code",
   "execution_count": null,
   "metadata": {},
   "outputs": [],
   "source": [
    "def graphic_temperature(year):\n",
    "    path = \"TabsM_ch01r.swisscors_{Y}01010000_{Y}12010000.nc\".format(Y=year)\n",
    "    cube_data = Dataset(path, mode='r')\n",
    "    lons = cube_data.variables['lon'][:]\n",
    "    lats = cube_data.variables['lat'][:]\n",
    "\n",
    "    # Create the underlying map\n",
    "    m = Basemap(\n",
    "        projection='mill',\n",
    "        llcrnrlat=45.7,\n",
    "        urcrnrlat=47.9,\n",
    "        llcrnrlon=5.8,\n",
    "        urcrnrlon=10.6,\n",
    "        resolution='f') \n",
    "\n",
    "    '''\n",
    "    projection: style of map (https://matplotlib.org/basemap/users/mapsetup.html)\n",
    "    llcrnlat: lower left corner of map latitude coordinate\n",
    "    urcrnlat: upper right corner of map latitude coordinate\n",
    "    llcrnrlon: lower left corner of map longitude coordinate\n",
    "    urcrnrlon: upper right corner of map longtitude coordinate\n",
    "    Resolution: c (crude), l (low), i (intermediate), h (high), f (full)\n",
    "    '''\n",
    "\n",
    "    # Transforming 2 dimensional data into one dimensional data\n",
    "    xi, yi = m(lons, lats)\n",
    "\n",
    "    # Set the size of the output figure\n",
    "    plt.figure(figsize=(12,9))\n",
    "\n",
    "    # Add Coastlines, Country Boundaries, Rivers and Lakes\n",
    "    m.drawcoastlines(linewidth=0.5, color='#0A37B0')\n",
    "    m.drawcountries(linewidth=1.5, color='#000000')\n",
    "    m.drawrivers(linewidth=0.5, color='#0A37B0')\n",
    "\n",
    "    for month in months:\n",
    "        temperature = cube_data.variables['TabsM'][month,:,:]\n",
    "\n",
    "        # Because of index differences we need to add +1 to month to capture the correct month\n",
    "        # 0 = January, 1 = February etc. a the moment\n",
    "        month_text = month + 1\n",
    "        # Plot Data\n",
    "        cs = m.pcolor(xi,yi,np.squeeze(temperature),vmin=-30, vmax = 30, cmap='coolwarm')\n",
    "\n",
    "        # As Referenzen for min and max figures we are referencing to Meteo Suisse and their graphics\n",
    "        # (https://www.meteoschweiz.admin.ch/home/klima/schweizer-klima-im-detail/monats-und-jahresgitterkarten.html)\n",
    "\n",
    "        # Adding a colorbar on the bottom of the graphic\n",
    "        cbar = m.colorbar(cs, location='bottom', pad='10%')\n",
    "        cbar.set_label('Average Temperatur in Degree Celsius')\n",
    "\n",
    "        # Adding a title to the graphic\n",
    "        plt.title('Average Temperatur: {Y}, Month: {M}'.format(Y=year, M=month_text))\n",
    "\n",
    "        #Savinf the plot to \".png\" \n",
    "        plt.savefig('Temperatur_{Y}_{M}.png'.format(Y=year,M=month_text))\n",
    "\n",
    "    cube_data.close()"
   ]
  },
  {
   "cell_type": "markdown",
   "metadata": {},
   "source": [
    "## Create all graphics "
   ]
  },
  {
   "cell_type": "code",
   "execution_count": null,
   "metadata": {},
   "outputs": [],
   "source": [
    "# All the graphics are stored localy in the working directory, please make sure to keep all the raw netCDF Data in the same folder.\n",
    "for year in years:\n",
    "    graphic_niederschlag(year)\n",
    "    graphic_temperature(year)"
   ]
  }
 ]
}