{
 "nbformat": 4,
 "nbformat_minor": 2,
 "metadata": {
  "language_info": {
   "name": "python",
   "codemirror_mode": {
    "name": "ipython",
    "version": 3
   },
   "version": "3.8.2-final"
  },
  "orig_nbformat": 2,
  "file_extension": ".py",
  "mimetype": "text/x-python",
  "name": "python",
  "npconvert_exporter": "python",
  "pygments_lexer": "ipython3",
  "version": 3,
  "kernelspec": {
   "name": "python38264bitklimaconda3dfee2e038b64cffb3a230fba7a12e02",
   "display_name": "Python 3.8.2 64-bit ('klima': conda)"
  }
 },
 "cells": [
  {
   "cell_type": "code",
   "execution_count": null,
   "metadata": {},
   "outputs": [],
   "source": [
    "import pandas as pd\n",
    "import numpy as np\n",
    "import numpy.ma as ma\n",
    "import matplotlib.pyplot as plt\n",
    "import time\n",
    "\n",
    "from netCDF4 import Dataset"
   ]
  },
  {
   "cell_type": "code",
   "execution_count": null,
   "metadata": {},
   "outputs": [],
   "source": [
    "#find your ip adress and the geocoordination from it\n",
    "from bs4 import BeautifulSoup\n",
    "import requests\n",
    "\n",
    "page = requests.get(\"https://iplocation.com/\")\n",
    "soup = BeautifulSoup(page.content, 'html.parser')\n",
    "\n",
    "ip_adress = soup.find(\"b\").get_text()\n",
    "lattitude = soup.find(\"td\", {\"class\": \"lat\"}).get_text()\n",
    "longitude = soup.find(\"td\", {\"class\": \"lng\"}).get_text()\n",
    "print(\"your public ip adress:\", ip_adress)\n",
    "print(\"latitude:\", lattitude)\n",
    "print(\"longitude:\", longitude)"
   ]
  },
  {
   "cell_type": "code",
   "execution_count": null,
   "metadata": {},
   "outputs": [],
   "source": [
    "#instead of latitude and longitude of your ip you can also insert one manually\n",
    "lat_location = float(lattitude) #45.897970 tessin zum testen      \n",
    "lon_location = float(longitude) #8.986362  tessin zum testen              "
   ]
  },
  {
   "cell_type": "code",
   "execution_count": null,
   "metadata": {},
   "outputs": [],
   "source": [
    "def find_precipitation(year,min_index_lon,min_index_lat):\n",
    "\n",
    "    #open file\n",
    "    path = \"swisstransfer_945ae19d-7035-4605-ac93-d08bb1ce453d/RhiresM_1961_2019_ch01r.swisscors/RhiresM_ch01r.swisscors_{Y}01010000_{Y}12010000.nc\".format(Y=year)\n",
    "    meteoswiss_data = Dataset(path)\n",
    "\n",
    "    #creating a List and adding the Value of the same messurment point to it\n",
    "    \n",
    "    timeseries = []\n",
    "    precipitation = meteoswiss_data.variables['RhiresM']\n",
    "\n",
    "    for month in range(0,12):\n",
    "        timeseries.append(precipitation[month][min_index_lon][min_index_lat])\n",
    "    return(timeseries)\n",
    "\n",
    "    #close netcdf\n",
    "    meteoswiss_data.close()\n",
    ""
   ]
  },
  {
   "cell_type": "code",
   "execution_count": null,
   "metadata": {},
   "outputs": [],
   "source": [
    "def find_temperatur(year,min_index_lon,min_index_lat):\n",
    "\n",
    "#uncomment next 2 Lines if the file 1980 is missing\n",
    "    #if year == 1980: \n",
    "    #    return([0,0,0,0,0,0,0,0,0,0,0,0]) #file for 1980 is missing \n",
    "\n",
    "    #open file\n",
    "    path = \"swisstransfer_945ae19d-7035-4605-ac93-d08bb1ce453d/TabsM_1961_2017_ch01r.swisscors/TabsM_ch01r.swisscors_{Y}01010000_{Y}12010000.nc\".format(Y=year)\n",
    "    meteoswiss_data = Dataset(path)\n",
    "\n",
    "    #creating a List and adding the Value of the same messurment point to it\n",
    "    \n",
    "    timeseries = []\n",
    "    precipitation = meteoswiss_data.variables['TabsM']\n",
    "\n",
    "    for month in range(0,12):\n",
    "        timeseries.append(precipitation[month][min_index_lat][min_index_lon])\n",
    "    return(timeseries)\n",
    "\n",
    "    #close netcdf\n",
    "    meteoswiss_data.close()"
   ]
  },
  {
   "cell_type": "markdown",
   "metadata": {},
   "source": [
    "Die netCDf enthalten Messdaten die in einem Gitternetz über der Schweiz liegen. Um für belibige Koordinaten die Messwerte zu erhalten, muss zuerst der nächste Messpunkt gefunden werden. Für zusätzliche Komplexität sorgt, dass die Messdaten anhand von den Schweizer Koordinaten abgelegt wurden und in diesem Notebook \"normale\" Koordinaten verwenden."
   ],
   "execution_count": null,
   "outputs": []
  },
  {
   "cell_type": "code",
   "execution_count": null,
   "metadata": {},
   "outputs": [],
   "source": [
    "starttime = time.time()\n",
    "path = \"swisstransfer_945ae19d-7035-4605-ac93-d08bb1ce453d/RhiresM_1961_2019_ch01r.swisscors/RhiresM_ch01r.swisscors_196101010000_196112010000.nc\"\n",
    "meteoswiss_data = Dataset(path)\n",
    "\n",
    "# read latitutde and longitude variable\n",
    "lat = meteoswiss_data.variables['lat'][:] \n",
    "lon = meteoswiss_data.variables['lon'][:]\n",
    "\n",
    "#calculate the min distance of a measurement station\n",
    "sq_distance = ((lat_location-lat)**2)+((lon_location-lon)**2)\n",
    "min_sq_distance = sq_distance.min()\n",
    "\n",
    "#find the index of the array with the smallest distance\n",
    "index = ma.where(sq_distance == sq_distance.min())\n",
    "min_index_lat = index[0][0]\n",
    "min_index_lon = index[1][0]\n",
    "\n",
    "#extract the precipitation for all years and saving them to a list\n",
    "precipitation_year = []\n",
    "for year in range(1961,2020):\n",
    "    precipitation_year = precipitation_year + find_precipitation(year,min_index_lat,min_index_lon)\n",
    "\n",
    "#creating a panda with the precipitation for the city\n",
    "data_range = pd.date_range(start = '1961', end= '2020', freq='M')\n",
    "timeseries_precipitation = pd.DataFrame(precipitation_year, columns = ['precipitation'], index = data_range)\n",
    "print(timeseries_precipitation)\n",
    "print(\"Time:\", time.time()-starttime,\"sekunden\")"
   ]
  },
  {
   "cell_type": "code",
   "execution_count": null,
   "metadata": {},
   "outputs": [],
   "source": [
    "starttime = time.time()\n",
    "path = \"swisstransfer_945ae19d-7035-4605-ac93-d08bb1ce453d/TabsM_1961_2017_ch01r.swisscors/TabsM_ch01r.swisscors_196101010000_196112010000.nc\"\n",
    "meteoswiss_data = Dataset(path)\n",
    "\n",
    "# read latitutde and longitude variable\n",
    "lat = meteoswiss_data.variables['lat'][:] \n",
    "lon = meteoswiss_data.variables['lon'][:]\n",
    "\n",
    "#calculate the min distance of a measurement station\n",
    "sq_distance = ((lat_location-lat)**2)+((lon_location-lon)**2)\n",
    "min_sq_distance = sq_distance.min()\n",
    "\n",
    "#find the index of the array with the smallest distance\n",
    "index = ma.where(sq_distance == sq_distance.min())\n",
    "min_index_lat = index[0][0]\n",
    "min_index_lon = index[1][0]\n",
    "\n",
    "#extract the precipitation for all years and saving them to a list\n",
    "temperatur_year = []\n",
    "\n",
    "for year in range(1961,2018):\n",
    "    temperatur_year = temperatur_year + find_temperatur(year,min_index_lon,min_index_lat)\n",
    "\n",
    "#creating a panda with the precipitation for the city\n",
    "data_range = pd.date_range(start = '1961', end= '2018', freq='M')\n",
    "timeseries_temp = pd.DataFrame(temperatur_year, columns = ['temperatur'], index = data_range)\n",
    "print(timeseries_temp)\n",
    "print(\"Time:\", time.time()-starttime,\"sekunden\")"
   ]
  },
  {
   "cell_type": "code",
   "execution_count": null,
   "metadata": {},
   "outputs": [],
   "source": [
    "timeseries_temp.rolling(24).mean().plot(kind='line')\n",
    ""
   ]
  },
  {
   "cell_type": "code",
   "execution_count": null,
   "metadata": {},
   "outputs": [],
   "source": [
    "timeseries_precipitation.groupby([(timeseries_precipitation.index.year)]).sum().plot(kind='line')"
   ]
  },
  {
   "cell_type": "code",
   "execution_count": null,
   "metadata": {},
   "outputs": [],
   "source": []
  }
 ]
}