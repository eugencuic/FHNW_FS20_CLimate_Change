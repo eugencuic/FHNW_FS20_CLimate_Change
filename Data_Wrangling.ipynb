{
 "cells": [
  {
   "cell_type": "markdown",
   "metadata": {},
   "source": [
    "# Data Wrangling vom Projekt Climate Change \n",
    "Wir haben von Meteoswiss Gitternetzdaten für die Schweiz für den Zeitraum 1961–2020 erhalten. Wir haben zwei Ordner erhalten, welche pro Jahr ein File haben. Diese Files haben die Messwerte pro Monat für die Schweiz mit Auflösung von einem 2 km Raster gespeichert. Nachfolgend wird gezeigt wie man aus diesem Format die Werte für eine spezifische Koordinate erhält."
   ]
  },
  {
   "cell_type": "code",
   "execution_count": null,
   "metadata": {},
   "outputs": [],
   "source": [
    "import pandas as pd\n",
    "import numpy as np\n",
    "import numpy.ma as ma\n",
    "import matplotlib.pyplot as plt\n",
    "import time\n",
    "\n",
    "from netCDF4 import Dataset"
   ]
  },
  {
   "cell_type": "markdown",
   "metadata": {},
   "source": [
    "Dieser Teil holt die aktuellen Koordinaten bezüglich der iploaction."
   ]
  },
  {
   "cell_type": "code",
   "execution_count": null,
   "metadata": {},
   "outputs": [],
   "source": [
    "#find your ip adress and the geocoordination from it\n",
    "from bs4 import BeautifulSoup\n",
    "import requests\n",
    "\n",
    "page = requests.get(\"https://iplocation.com/\")\n",
    "soup = BeautifulSoup(page.content, 'html.parser')\n",
    "\n",
    "ip_adress = soup.find(\"b\").get_text()\n",
    "lattitude = soup.find(\"td\", {\"class\": \"lat\"}).get_text()\n",
    "longitude = soup.find(\"td\", {\"class\": \"lng\"}).get_text()\n",
    "print(\"your ip adress:\", ip_adress)\n",
    "print(\"latitude:\", lattitude)\n",
    "print(\"longitude:\", longitude)"
   ]
  },
  {
   "cell_type": "markdown",
   "metadata": {},
   "source": [
    "Für die Funktion brauchen wir die Koordinaten im float Datentyp."
   ]
  },
  {
   "cell_type": "code",
   "execution_count": null,
   "metadata": {},
   "outputs": [],
   "source": [
    "#instead of latitude and longitude of your ip you can also insert one manually\n",
    "lat_location = float(lattitude) #45.897970 tessin zum testen      \n",
    "lon_location = float(longitude) #8.986362  tessin zum testen            "
   ]
  },
  {
   "cell_type": "markdown",
   "metadata": {},
   "source": [
    "Wir haben zwei Funktionen, eine für den Niederschlag und eine für die Temperatur erstellt. Die Funktion unterscheiden sich nur im Pfad auf welche Files sie zugreifen. Die Funktion gibt für ein definiertes Jahr alle Messwerte pro Monat als eine Liste zurück. Der Input min_index_lon und min_index_lat müssen zuerst berechnet werden. Diese Variablen werden verwendet, damit am richtigen Ort des zweidimensionalen Arrays die Werte herausgelesen werden."
   ]
  },
  {
   "cell_type": "code",
   "execution_count": null,
   "metadata": {},
   "outputs": [],
   "source": [
    "def find_precipitation(year,min_index_lon,min_index_lat):\n",
    "\n",
    "    #open file\n",
    "    path = \"RhiresM_1961_2019_ch01r.swisscors/RhiresM_ch01r.swisscors_{Y}01010000_{Y}12010000.nc\".format(Y=year)\n",
    "    meteoswiss_data = Dataset(path)\n",
    "\n",
    "    #creating a List and adding the Value of the same messurment point to it\n",
    "    \n",
    "    timeseries = []\n",
    "    precipitation = meteoswiss_data.variables['RhiresM']\n",
    "\n",
    "    for month in range(0,12):\n",
    "        timeseries.append(precipitation[month][min_index_lon][min_index_lat])\n",
    "    return(timeseries)\n",
    "\n",
    "    #close netcdf\n",
    "    meteoswiss_data.close()\n"
   ]
  },
  {
   "cell_type": "code",
   "execution_count": null,
   "metadata": {},
   "outputs": [],
   "source": [
    "def find_temperatur(year,min_index_lon,min_index_lat):\n",
    "\n",
    "\n",
    "    #open file\n",
    "    path = \"TabsM_1961_2017_ch01r.swisscors/TabsM_ch01r.swisscors_{Y}01010000_{Y}12010000.nc\".format(Y=year)\n",
    "    meteoswiss_data = Dataset(path)\n",
    "\n",
    "    #creating a List and adding the Value of the same messurment point to it\n",
    "    \n",
    "    timeseries = []\n",
    "    precipitation = meteoswiss_data.variables['TabsM']\n",
    "\n",
    "    for month in range(0,12):\n",
    "        timeseries.append(precipitation[month][min_index_lat][min_index_lon])\n",
    "    return(timeseries)\n",
    "\n",
    "    #close netcdf\n",
    "    meteoswiss_data.close()"
   ]
  },
  {
   "cell_type": "markdown",
   "metadata": {},
   "source": [
    "Die Nächsten zwei Codeabschnitte sind fast identisch. Sie unterscheiden sich darin das der einte Teil für den Niederschlag und der andere für die Temperatur ist. Die Netcdf Dateien bestehen aus einem 3 Dimensionalen Array wobei die einte Dimension die Zeit und die anderen zwei Dimensionen die Latitude und die Longitude darstellen. Die Dimension Zeit wird mit einer \"For Loop\" und der zuvor erstellten Funktion ermittelt. \n",
    "Das Gitternetz hat in der horizontalen und vertikalen Achse eine Auflösung von 2km. Für jeden Schnittpunkt dieser Linie gibt es einen Messpunkt und ein dazu korrespondierendes Koordinatenpaar. Um für eine belibige Koordinate den richtigen Schnittpunkt(Messpunkt) zu finden subtrahieren wir die eingegeben Koordinaten von allen Messpunkten. Um beim Vergleich keine negativen Zahlen zu haben, quadrieren wir anschliessend diese Werte. Danach können wir mit einer Funktion den Index herauslesen, der am nächsten bei null also bei einem Messpunkt ist. Dieser Index zeigt, wo im zweidimensionalen Array der gesuchte Wert ist."
   ]
  },
  {
   "cell_type": "code",
   "execution_count": null,
   "metadata": {},
   "outputs": [],
   "source": [
    "starttime = time.time()\n",
    "path = \"RhiresM_1961_2019_ch01r.swisscors/RhiresM_ch01r.swisscors_196101010000_196112010000.nc\"\n",
    "meteoswiss_data = Dataset(path)\n",
    "\n",
    "# read latitutde and longitude variable\n",
    "lat = meteoswiss_data.variables['lat'][:] \n",
    "lon = meteoswiss_data.variables['lon'][:]\n",
    "\n",
    "#calculate the min distance of a measurement station\n",
    "sq_distance = ((lat_location-lat)**2)+((lon_location-lon)**2)\n",
    "min_sq_distance = sq_distance.min()\n",
    "\n",
    "#find the index of the array with the smallest distance\n",
    "index = ma.where(sq_distance == sq_distance.min())\n",
    "min_index_lat = index[0][0]\n",
    "min_index_lon = index[1][0]\n",
    "\n",
    "#extract the precipitation for all years and saving them to a list\n",
    "precipitation_year = []\n",
    "for year in range(1961,2020):\n",
    "    precipitation_year = precipitation_year + find_precipitation(year,min_index_lat,min_index_lon)\n",
    "\n",
    "#creating a panda with the precipitation for the city\n",
    "data_range = pd.date_range(start = '1961', end= '2020', freq='M')\n",
    "timeseries_precipitation = pd.DataFrame(precipitation_year, columns = ['precipitation'], index = data_range)\n",
    "print(timeseries_precipitation)\n",
    "print(\"Time:\", time.time()-starttime,\"sekunden\")"
   ]
  },
  {
   "cell_type": "code",
   "execution_count": null,
   "metadata": {},
   "outputs": [],
   "source": [
    "starttime = time.time()\n",
    "path = \"TabsM_1961_2017_ch01r.swisscors/TabsM_ch01r.swisscors_196101010000_196112010000.nc\"\n",
    "meteoswiss_data = Dataset(path)\n",
    "\n",
    "# read latitutde and longitude variable\n",
    "lat = meteoswiss_data.variables['lat'][:] \n",
    "lon = meteoswiss_data.variables['lon'][:]\n",
    "\n",
    "#calculate the min distance of a measurement station\n",
    "sq_distance = ((lat_location-lat)**2)+((lon_location-lon)**2)\n",
    "min_sq_distance = sq_distance.min()\n",
    "\n",
    "#find the index of the array with the smallest distance\n",
    "index = ma.where(sq_distance == sq_distance.min())\n",
    "min_index_lat = index[0][0]\n",
    "min_index_lon = index[1][0]\n",
    "\n",
    "#extract the precipitation for all years and saving them to a list\n",
    "temperatur_year = []\n",
    "\n",
    "for year in range(1961,2020):\n",
    "    temperatur_year = temperatur_year + find_temperatur(year,min_index_lon,min_index_lat)\n",
    "\n",
    "#creating a panda with the precipitation for the city\n",
    "data_range = pd.date_range(start = '1961', end= '2020', freq='M')\n",
    "timeseries_temp = pd.DataFrame(temperatur_year, columns = ['temperatur'], index = data_range)\n",
    "print(timeseries_temp)\n",
    "print(\"Time:\", time.time()-starttime,\"sekunden\")"
   ]
  },
  {
   "cell_type": "code",
   "execution_count": null,
   "metadata": {},
   "outputs": [],
   "source": [
    "import plotly.express as px\n",
    "import statsmodels\n",
    "import plotly.graph_objects as go\n",
    "\n",
    "df = timeseries_temp\n",
    "\n",
    "fig=go.Figure()\n",
    "fig.add_trace(go.Scatter(x=df.index, y=df['temperatur'], mode='markers', name=\"Alle Messwerte\"))\n",
    "\n",
    "# Define Text for Hover\n",
    "fig.update_traces(hovertemplate='Jahr: %{x} <br>Temperatur: %{y}\\u00B0C')\n",
    "\n",
    "# plotly figure layout\n",
    "fig.update_layout(template = 'seaborn', \n",
    "                title=\"Monatliche Durchschnittstemperatur\", \n",
    "                xaxis_title = 'Zeit in Monaten', yaxis_title = 'Temperatur in \\u00B0C')\n",
    "\n",
    "fig.show()\n"
   ]
  },
  {
   "cell_type": "code",
   "execution_count": null,
   "metadata": {},
   "outputs": [],
   "source": [
    "df = timeseries_precipitation\n",
    "\n",
    "fig=go.Figure()\n",
    "fig.add_trace(go.Scatter(x=df.index, y=df['precipitation'], mode='markers', name=\"Alle Messwerte\"))\n",
    "\n",
    "#Adjust Hover Text\n",
    "fig.update_traces(hovertemplate='Jahr: %{x} <br>Niederschlag: %{y}mm')\n",
    "\n",
    "# plotly figure layout\n",
    "fig.update_layout(template = 'seaborn', \n",
    "                title=\"Monatlicher Niederschlag\", \n",
    "                xaxis_title = 'Zeit in Monaten', yaxis_title = 'Niederschlag in mm')\n",
    "\n",
    "fig.show()"
   ]
  }
 ],
 "metadata": {
  "language_info": {
   "name": "python",
   "codemirror_mode": {
    "name": "ipython",
    "version": 3
   },
   "version": "3.8.2-final"
  },
  "orig_nbformat": 2,
  "file_extension": ".py",
  "mimetype": "text/x-python",
  "name": "python",
  "npconvert_exporter": "python",
  "pygments_lexer": "ipython3",
  "version": 3,
  "kernelspec": {
   "name": "python38264bitklimaconda3dfee2e038b64cffb3a230fba7a12e02",
   "display_name": "Python 3.8.2 64-bit ('klima': conda)"
  }
 },
 "nbformat": 4,
 "nbformat_minor": 2
}